{
  "nbformat": 4,
  "nbformat_minor": 0,
  "metadata": {
    "colab": {
      "provenance": [],
      "collapsed_sections": []
    },
    "kernelspec": {
      "name": "python3",
      "display_name": "Python 3"
    },
    "language_info": {
      "name": "python"
    }
  },
  "cells": [
    {
      "cell_type": "code",
      "source": [
        "import pandas as pd"
      ],
      "metadata": {
        "id": "zwq8WN7LB9YE"
      },
      "execution_count": null,
      "outputs": []
    },
    {
      "cell_type": "code",
      "source": [
        "df = pd.read_csv('2022Games.csv')\n",
        "\n",
        "print(df)"
      ],
      "metadata": {
        "id": "9GgspLKXCAsd"
      },
      "execution_count": null,
      "outputs": []
    },
    {
      "cell_type": "markdown",
      "source": [
        "##Linear"
      ],
      "metadata": {
        "id": "Yzjw9JsMtaGv"
      }
    },
    {
      "cell_type": "code",
      "source": [
        "y = df['HOME_TEAM_WINS']\n",
        "print(y)"
      ],
      "metadata": {
        "id": "0MgahGNrwfeL"
      },
      "execution_count": null,
      "outputs": []
    },
    {
      "cell_type": "code",
      "source": [
        "Z = df.drop(['PTS_home','SEASON','TEAM_ID_home','HOME_TEAM_WINS','PTS_away','TEAM_ID_away'], axis =1)\n",
        "Z['GAME_DATE_EST'] = 100* (Z['FG_PCT_home'] - Z['FG_PCT_away'])\n",
        "Z['GAME_ID'] = 100*(Z['FT_PCT_home'] - Z['FT_PCT_away'])\n",
        "Z['GAME_STATUS_TEXT'] = 100*(Z['FG3_PCT_home'] - Z['FG3_PCT_away'])\n",
        "Z['HOME_TEAM_ID'] = Z['AST_home'] - Z['AST_away']\n",
        "Z['VISITOR_TEAM_ID'] = Z['REB_home'] - Z['REB_away']\n",
        "Z = Z.drop(['REB_away','AST_away','FG3_PCT_away','FT_PCT_away','FG_PCT_away','REB_home','AST_home','FG3_PCT_home','FT_PCT_home','FG_PCT_home'], axis =1)\n",
        "Z"
      ],
      "metadata": {
        "id": "yDRGLKfoynEe"
      },
      "execution_count": null,
      "outputs": []
    },
    {
      "cell_type": "code",
      "source": [
        "from sklearn.model_selection import train_test_split\n",
        "\n",
        "Z_train, Z_test, y_train, y_test = train_test_split(Z, y, test_size=0.2, random_state=100)"
      ],
      "metadata": {
        "id": "ch6gA0b_yFAX"
      },
      "execution_count": null,
      "outputs": []
    },
    {
      "cell_type": "code",
      "source": [
        "from sklearn.linear_model import LinearRegression\n",
        "lr = LinearRegression()\n",
        "lr.fit(Z_train, y_train)"
      ],
      "metadata": {
        "id": "-12gdx550nkB"
      },
      "execution_count": null,
      "outputs": []
    },
    {
      "cell_type": "code",
      "source": [
        "y_lr_train_pred = lr.predict(Z_train)\n",
        "y_lr_test_pred = lr.predict(Z_test)"
      ],
      "metadata": {
        "id": "c9CgO4Eg11dE"
      },
      "execution_count": null,
      "outputs": []
    },
    {
      "cell_type": "code",
      "source": [
        "y_test"
      ],
      "metadata": {
        "id": "zNnOIiM0v5kx"
      },
      "execution_count": null,
      "outputs": []
    },
    {
      "cell_type": "code",
      "source": [
        "y_lr_test_pred"
      ],
      "metadata": {
        "id": "z2jfheod2DSx"
      },
      "execution_count": null,
      "outputs": []
    },
    {
      "cell_type": "code",
      "source": [
        "from sklearn.metrics import mean_squared_error, r2_score\n",
        "lr_train_mse = mean_squared_error(y_train,y_lr_train_pred)\n",
        "lr_train_r2 = r2_score(y_train, y_lr_train_pred)\n",
        "\n",
        "lr_test_mse = mean_squared_error(y_test, y_lr_test_pred)\n",
        "lr_test_r2 = r2_score(y_test, y_lr_test_pred)\n",
        "\n",
        "print(\"LR Test R2:\", lr_test_r2)\n",
        "print(\"LR Test MSE:\", lr_test_mse)\n",
        "print(\"LR Train R2:\", lr_train_r2)\n",
        "print(\"LR Test MSE:\", lr_train_mse)"
      ],
      "metadata": {
        "colab": {
          "base_uri": "https://localhost:8080/"
        },
        "id": "fkX_BNUT3NJc",
        "outputId": "c09436c0-a3f7-461b-8541-6fff4b6d3eab"
      },
      "execution_count": null,
      "outputs": [
        {
          "output_type": "stream",
          "name": "stdout",
          "text": [
            "LR Test R2: 0.4692965344639455\n",
            "LR Test MSE: 0.13211850034724948\n",
            "LR Train R2: 0.5152044405632572\n",
            "LR Test MSE: 0.11942646261105569\n"
          ]
        }
      ]
    },
    {
      "cell_type": "markdown",
      "source": [
        "##Forest"
      ],
      "metadata": {
        "id": "7Hq_jUd4tkvm"
      }
    },
    {
      "cell_type": "code",
      "source": [
        "from sklearn.ensemble import RandomForestClassifier\n",
        "import numpy as np"
      ],
      "metadata": {
        "id": "7vSc4k45tnr2"
      },
      "execution_count": null,
      "outputs": []
    },
    {
      "cell_type": "code",
      "source": [
        "y = df['HOME_TEAM_WINS']\n",
        "print(y)"
      ],
      "metadata": {
        "id": "fq2RmghhxhZC"
      },
      "execution_count": null,
      "outputs": []
    },
    {
      "cell_type": "code",
      "source": [
        "Z = df.drop(['PTS_home','SEASON','TEAM_ID_home','HOME_TEAM_WINS','PTS_away','TEAM_ID_away'], axis =1)\n",
        "Z['GAME_DATE_EST'] = 100* (Z['FG_PCT_home'] - Z['FG_PCT_away'])\n",
        "Z['GAME_ID'] = 100*(Z['FT_PCT_home'] - Z['FT_PCT_away'])\n",
        "Z['GAME_STATUS_TEXT'] = 100*(Z['FG3_PCT_home'] - Z['FG3_PCT_away'])\n",
        "Z['HOME_TEAM_ID'] = Z['AST_home'] - Z['AST_away']\n",
        "Z['VISITOR_TEAM_ID'] = Z['REB_home'] - Z['REB_away']\n",
        "Z = Z.drop(['REB_away','AST_away','FG3_PCT_away','FT_PCT_away','FG_PCT_away','REB_home','AST_home','FG3_PCT_home','FT_PCT_home','FG_PCT_home'], axis =1)\n",
        "Z"
      ],
      "metadata": {
        "id": "goaZnA13xifH"
      },
      "execution_count": null,
      "outputs": []
    },
    {
      "cell_type": "code",
      "source": [
        "print(f'Z : {Z.shape}')"
      ],
      "metadata": {
        "id": "CDzCO9EVxsyp"
      },
      "execution_count": null,
      "outputs": []
    },
    {
      "cell_type": "code",
      "source": [
        "from sklearn.model_selection import train_test_split\n",
        "\n",
        "Z_train, Z_test, y_train, y_test = train_test_split(Z, y, test_size=0.2, random_state=101)"
      ],
      "metadata": {
        "id": "4StGi705x8Um"
      },
      "execution_count": null,
      "outputs": []
    },
    {
      "cell_type": "markdown",
      "source": [
        "### Hyperparameters"
      ],
      "metadata": {
        "id": "EiaqTz0HoXFE"
      }
    },
    {
      "cell_type": "code",
      "source": [
        "n_estimators = [int(x) for x in np.linspace(start = 10, stop = 80, num = 10)]\n",
        "max_features = ['auto', 'sqrt']\n",
        "max_depth = [2,4]\n",
        "min_samples_split = [2,5]\n",
        "min_samples_leaf = [1,2]\n",
        "bootstrap = [True, False]"
      ],
      "metadata": {
        "id": "DPH8pGWjofAX"
      },
      "execution_count": null,
      "outputs": []
    },
    {
      "cell_type": "code",
      "source": [
        "param_grid = {'n_estimators':n_estimators,\n",
        "              'max_features':max_features,\n",
        "              'max_depth':max_depth,\n",
        "              'min_samples_split':min_samples_split,\n",
        "              'min_samples_leaf':min_samples_leaf,\n",
        "              'bootstrap':bootstrap\n",
        "              }\n",
        "print(param_grid)"
      ],
      "metadata": {
        "colab": {
          "base_uri": "https://localhost:8080/"
        },
        "id": "QbuMejL0sEUe",
        "outputId": "c292ee9f-eaa3-4a3d-a546-a53d61746f8f"
      },
      "execution_count": null,
      "outputs": [
        {
          "output_type": "stream",
          "name": "stdout",
          "text": [
            "{'n_estimators': [10, 17, 25, 33, 41, 48, 56, 64, 72, 80], 'max_features': ['auto', 'sqrt'], 'max_depth': [2, 4], 'min_samples_split': [2, 5], 'min_samples_leaf': [1, 2], 'bootstrap': [True, False]}\n"
          ]
        }
      ]
    },
    {
      "cell_type": "code",
      "source": [
        "rf_Model = RandomForestClassifier()"
      ],
      "metadata": {
        "id": "LEZRLE-ayLnB"
      },
      "execution_count": null,
      "outputs": []
    },
    {
      "cell_type": "code",
      "source": [
        "from sklearn.model_selection import GridSearchCV\n",
        "rf_Grid = GridSearchCV(estimator = rf_Model, param_grid = param_grid,  cv = 3, verbose=2, n_jobs = 4)"
      ],
      "metadata": {
        "id": "O6HhXTyMtU6F"
      },
      "execution_count": null,
      "outputs": []
    },
    {
      "cell_type": "code",
      "source": [
        "rf_Grid.fit(Z_train, y_train)"
      ],
      "metadata": {
        "colab": {
          "base_uri": "https://localhost:8080/"
        },
        "id": "Ox-HhrMGtqmM",
        "outputId": "3fd4f0fc-a76e-4a9a-b49f-e358f4c05592"
      },
      "execution_count": null,
      "outputs": [
        {
          "output_type": "stream",
          "name": "stdout",
          "text": [
            "Fitting 3 folds for each of 320 candidates, totalling 960 fits\n"
          ]
        },
        {
          "output_type": "execute_result",
          "data": {
            "text/plain": [
              "GridSearchCV(cv=3, estimator=RandomForestClassifier(), n_jobs=4,\n",
              "             param_grid={'bootstrap': [True, False], 'max_depth': [2, 4],\n",
              "                         'max_features': ['auto', 'sqrt'],\n",
              "                         'min_samples_leaf': [1, 2],\n",
              "                         'min_samples_split': [2, 5],\n",
              "                         'n_estimators': [10, 17, 25, 33, 41, 48, 56, 64, 72,\n",
              "                                          80]},\n",
              "             verbose=2)"
            ]
          },
          "metadata": {},
          "execution_count": 71
        }
      ]
    },
    {
      "cell_type": "code",
      "source": [
        "rf_Grid.best_params_"
      ],
      "metadata": {
        "colab": {
          "base_uri": "https://localhost:8080/"
        },
        "id": "7M1SUpfnunuP",
        "outputId": "c6b69060-e4f6-4519-bea4-a00e287ff4b6"
      },
      "execution_count": null,
      "outputs": [
        {
          "output_type": "execute_result",
          "data": {
            "text/plain": [
              "{'bootstrap': False,\n",
              " 'max_depth': 4,\n",
              " 'max_features': 'sqrt',\n",
              " 'min_samples_leaf': 2,\n",
              " 'min_samples_split': 2,\n",
              " 'n_estimators': 48}"
            ]
          },
          "metadata": {},
          "execution_count": 72
        }
      ]
    },
    {
      "cell_type": "code",
      "source": [
        "print(f'Train Accuracy - : {rf_Grid.score(Z_train, y_train):.3f}')\n",
        "print(f'Test Accuracy - : {rf_Grid.score(Z_test, y_test):.3f}')"
      ],
      "metadata": {
        "colab": {
          "base_uri": "https://localhost:8080/"
        },
        "id": "u1Vf2rVAw-s9",
        "outputId": "1fa3300a-de91-41d7-85f1-1b7e7d9f3230"
      },
      "execution_count": null,
      "outputs": [
        {
          "output_type": "stream",
          "name": "stdout",
          "text": [
            "Train Accuracy - : 0.901\n",
            "Test Accuracy - : 0.819\n"
          ]
        }
      ]
    },
    {
      "cell_type": "markdown",
      "source": [
        "## Test on Past Years"
      ],
      "metadata": {
        "id": "4o6285Zty2q5"
      }
    },
    {
      "cell_type": "code",
      "source": [
        "df2 = pd.read_csv('2021Games.csv')\n",
        "\n",
        "print(df2)"
      ],
      "metadata": {
        "id": "cQ6y_pw_yqxh"
      },
      "execution_count": null,
      "outputs": []
    },
    {
      "cell_type": "code",
      "source": [
        "y2 = df2['HOME_TEAM_WINS']\n",
        "print(y)"
      ],
      "metadata": {
        "id": "f4YIuEDMzFc0"
      },
      "execution_count": null,
      "outputs": []
    },
    {
      "cell_type": "code",
      "source": [
        "Z2 = df2.drop(['PTS_home','SEASON','TEAM_ID_home','HOME_TEAM_WINS','PTS_away','TEAM_ID_away'], axis =1)\n",
        "Z2['GAME_DATE_EST'] = 100* (Z2['FG_PCT_home'] - Z2['FG_PCT_away'])\n",
        "Z2['GAME_ID'] = 100*(Z2['FT_PCT_home'] - Z2['FT_PCT_away'])\n",
        "Z2['GAME_STATUS_TEXT'] = 100*(Z2['FG3_PCT_home'] - Z2['FG3_PCT_away'])\n",
        "Z2['HOME_TEAM_ID'] = Z2['AST_home'] - Z2['AST_away']\n",
        "Z2['VISITOR_TEAM_ID'] = Z2['REB_home'] - Z2['REB_away']\n",
        "Z2 = Z2.drop(['REB_away','AST_away','FG3_PCT_away','FT_PCT_away','FG_PCT_away','REB_home','AST_home','FG3_PCT_home','FT_PCT_home','FG_PCT_home'], axis =1)\n",
        "Z2"
      ],
      "metadata": {
        "id": "CKuyTUUnzMz4"
      },
      "execution_count": null,
      "outputs": []
    },
    {
      "cell_type": "code",
      "source": [
        "from sklearn.model_selection import train_test_split\n",
        "\n",
        "Z2_train, Z2_test, y2_train, y2_test = train_test_split(Z2, y2, test_size=0.2, random_state=101)"
      ],
      "metadata": {
        "id": "nMGCIC_WzvIf"
      },
      "execution_count": null,
      "outputs": []
    },
    {
      "cell_type": "code",
      "source": [
        "print(f'Train Accuracy - : {rf_Grid.score(Z2_train, y2_train):.3f}')\n",
        "print(f'Test Accuracy - : {rf_Grid.score(Z2_test, y2_test):.3f}')"
      ],
      "metadata": {
        "colab": {
          "base_uri": "https://localhost:8080/"
        },
        "id": "r7stRU7Q0oOH",
        "outputId": "0c47301c-3200-4edd-f897-b1e5fb3f9557"
      },
      "execution_count": null,
      "outputs": [
        {
          "output_type": "stream",
          "name": "stdout",
          "text": [
            "Train Accuracy - : 0.831\n",
            "Test Accuracy - : 0.838\n"
          ]
        }
      ]
    }
  ]
}