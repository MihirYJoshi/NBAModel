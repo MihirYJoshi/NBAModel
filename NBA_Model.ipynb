{
  "nbformat": 4,
  "nbformat_minor": 0,
  "metadata": {
    "colab": {
      "provenance": [],
      "collapsed_sections": []
    },
    "kernelspec": {
      "name": "python3",
      "display_name": "Python 3"
    },
    "language_info": {
      "name": "python"
    }
  },
  "cells": [
    {
      "cell_type": "code",
      "source": [
        "import pandas as pd"
      ],
      "metadata": {
        "id": "zwq8WN7LB9YE"
      },
      "execution_count": null,
      "outputs": []
    },
    {
      "cell_type": "code",
      "source": [
        "df = pd.read_csv('2022Games.csv')\n",
        "\n",
        "print(df)"
      ],
      "metadata": {
        "id": "9GgspLKXCAsd",
        "colab": {
          "base_uri": "https://localhost:8080/"
        },
        "outputId": "209dbae0-7f36-400f-8f8a-498bfde631ee"
      },
      "execution_count": null,
      "outputs": [
        {
          "output_type": "stream",
          "name": "stdout",
          "text": [
            "     GAME_DATE_EST   GAME_ID GAME_STATUS_TEXT  HOME_TEAM_ID  VISITOR_TEAM_ID  \\\n",
            "0       2022-03-12  22101005            Final    1610612748       1610612750   \n",
            "1       2022-03-12  22101006            Final    1610612741       1610612739   \n",
            "2       2022-03-12  22101007            Final    1610612759       1610612754   \n",
            "3       2022-03-12  22101008            Final    1610612744       1610612749   \n",
            "4       2022-03-12  22101009            Final    1610612743       1610612761   \n",
            "...            ...       ...              ...           ...              ...   \n",
            "1071    2021-10-04  12100007            Final    1610612759       1610612762   \n",
            "1072    2021-10-04  12100008            Final    1610612757       1610612744   \n",
            "1073    2021-10-04  12100009            Final    1610612758       1610612756   \n",
            "1074    2021-10-04  12100010            Final    1610612746       1610612743   \n",
            "1075    2021-10-03  12100001            Final    1610612747       1610612751   \n",
            "\n",
            "      SEASON  TEAM_ID_home  PTS_home  FG_PCT_home  FT_PCT_home  ...  AST_home  \\\n",
            "0       2021    1610612748     104.0        0.398        0.760  ...      23.0   \n",
            "1       2021    1610612741     101.0        0.443        0.933  ...      20.0   \n",
            "2       2021    1610612759     108.0        0.412        0.813  ...      28.0   \n",
            "3       2021    1610612744     122.0        0.484        0.933  ...      33.0   \n",
            "4       2021    1610612743     115.0        0.551        0.750  ...      32.0   \n",
            "...      ...           ...       ...          ...          ...  ...       ...   \n",
            "1071    2021    1610612759     111.0        0.465        0.760  ...      22.0   \n",
            "1072    2021    1610612757     107.0        0.446        0.773  ...      21.0   \n",
            "1073    2021    1610612758     117.0        0.473        0.684  ...      22.0   \n",
            "1074    2021    1610612746     103.0        0.432        0.760  ...      26.0   \n",
            "1075    2021    1610612747      97.0        0.364        0.688  ...      17.0   \n",
            "\n",
            "      REB_home  TEAM_ID_away  PTS_away  FG_PCT_away  FT_PCT_away  \\\n",
            "0         53.0    1610612750     113.0        0.422        0.875   \n",
            "1         46.0    1610612739      91.0        0.419        0.824   \n",
            "2         52.0    1610612754     119.0        0.489        1.000   \n",
            "3         55.0    1610612749     109.0        0.413        0.696   \n",
            "4         39.0    1610612761     127.0        0.471        0.760   \n",
            "...        ...           ...       ...          ...          ...   \n",
            "1071      60.0    1610612762      85.0        0.317        0.600   \n",
            "1072      53.0    1610612744     121.0        0.420        0.765   \n",
            "1073      51.0    1610612756     106.0        0.467        0.846   \n",
            "1074      52.0    1610612743     102.0        0.430        0.621   \n",
            "1075      41.0    1610612751     123.0        0.483        0.725   \n",
            "\n",
            "      FG3_PCT_away  AST_away  REB_away  HOME_TEAM_WINS  \n",
            "0            0.357      21.0      46.0               0  \n",
            "1            0.208      19.0      40.0               1  \n",
            "2            0.389      23.0      47.0               0  \n",
            "3            0.386      27.0      39.0               1  \n",
            "4            0.387      28.0      50.0               0  \n",
            "...            ...       ...       ...             ...  \n",
            "1071         0.233      14.0      47.0               1  \n",
            "1072         0.348      32.0      47.0               0  \n",
            "1073         0.314      24.0      38.0               1  \n",
            "1074         0.270      20.0      45.0               1  \n",
            "1075         0.417      20.0      54.0               0  \n",
            "\n",
            "[1076 rows x 21 columns]\n"
          ]
        }
      ]
    },
    {
      "cell_type": "markdown",
      "source": [
        "##Logistic Regression"
      ],
      "metadata": {
        "id": "GYIWYOyHCIIw"
      }
    },
    {
      "cell_type": "code",
      "source": [
        "y = df['HOME_TEAM_WINS']\n",
        "print(y)"
      ],
      "metadata": {
        "id": "0MgahGNrwfeL",
        "colab": {
          "base_uri": "https://localhost:8080/"
        },
        "outputId": "edcf4096-6443-4cae-b07e-9246fc56f5b9"
      },
      "execution_count": null,
      "outputs": [
        {
          "output_type": "stream",
          "name": "stdout",
          "text": [
            "0       0\n",
            "1       1\n",
            "2       0\n",
            "3       1\n",
            "4       0\n",
            "       ..\n",
            "1071    1\n",
            "1072    0\n",
            "1073    1\n",
            "1074    1\n",
            "1075    0\n",
            "Name: HOME_TEAM_WINS, Length: 1076, dtype: int64\n"
          ]
        }
      ]
    },
    {
      "cell_type": "code",
      "source": [
        "Z = df.drop(['PTS_home','SEASON','TEAM_ID_home','HOME_TEAM_WINS','PTS_away','TEAM_ID_away'], axis =1)\n",
        "Z['FG_Diff_PT'] = 100* (Z['FG_PCT_home'] - Z['FG_PCT_away'])\n",
        "Z['FT_Diff_PT'] = 100*(Z['FT_PCT_home'] - Z['FT_PCT_away'])\n",
        "Z['FG3_Diff_PT'] = 100*(Z['FG3_PCT_home'] - Z['FG3_PCT_away'])\n",
        "Z['AST_Diff'] = Z['AST_home'] - Z['AST_away']\n",
        "Z['REB_Diff'] = Z['REB_home'] - Z['REB_away']\n",
        "X = Z[['FG_Diff_PT','FT_Diff_PT','FG3_Diff_PT','AST_Diff','REB_Diff']]\n",
        "X"
      ],
      "metadata": {
        "id": "yDRGLKfoynEe",
        "colab": {
          "base_uri": "https://localhost:8080/",
          "height": 424
        },
        "outputId": "22d20997-ee51-4734-f7ec-b61443906219"
      },
      "execution_count": null,
      "outputs": [
        {
          "output_type": "execute_result",
          "data": {
            "text/plain": [
              "      FG_Diff_PT  FT_Diff_PT  FG3_Diff_PT  AST_Diff  REB_Diff\n",
              "0           -2.4       -11.5         -2.4       2.0       7.0\n",
              "1            2.4        10.9         22.1       1.0       6.0\n",
              "2           -7.7       -18.7         -6.5       5.0       5.0\n",
              "3            7.1        23.7          1.4       6.0      16.0\n",
              "4            8.0        -1.0          2.0       4.0     -11.0\n",
              "...          ...         ...          ...       ...       ...\n",
              "1071        14.8        16.0         12.0       8.0      13.0\n",
              "1072         2.6         0.8          7.3     -11.0       6.0\n",
              "1073         0.6       -16.2          2.6      -2.0      13.0\n",
              "1074         0.2        13.9          6.3       6.0       7.0\n",
              "1075       -11.9        -3.7        -10.3      -3.0     -13.0\n",
              "\n",
              "[1076 rows x 5 columns]"
            ],
            "text/html": [
              "\n",
              "  <div id=\"df-c1af76bb-ea55-432e-9744-1bb03bb77dcd\">\n",
              "    <div class=\"colab-df-container\">\n",
              "      <div>\n",
              "<style scoped>\n",
              "    .dataframe tbody tr th:only-of-type {\n",
              "        vertical-align: middle;\n",
              "    }\n",
              "\n",
              "    .dataframe tbody tr th {\n",
              "        vertical-align: top;\n",
              "    }\n",
              "\n",
              "    .dataframe thead th {\n",
              "        text-align: right;\n",
              "    }\n",
              "</style>\n",
              "<table border=\"1\" class=\"dataframe\">\n",
              "  <thead>\n",
              "    <tr style=\"text-align: right;\">\n",
              "      <th></th>\n",
              "      <th>FG_Diff_PT</th>\n",
              "      <th>FT_Diff_PT</th>\n",
              "      <th>FG3_Diff_PT</th>\n",
              "      <th>AST_Diff</th>\n",
              "      <th>REB_Diff</th>\n",
              "    </tr>\n",
              "  </thead>\n",
              "  <tbody>\n",
              "    <tr>\n",
              "      <th>0</th>\n",
              "      <td>-2.4</td>\n",
              "      <td>-11.5</td>\n",
              "      <td>-2.4</td>\n",
              "      <td>2.0</td>\n",
              "      <td>7.0</td>\n",
              "    </tr>\n",
              "    <tr>\n",
              "      <th>1</th>\n",
              "      <td>2.4</td>\n",
              "      <td>10.9</td>\n",
              "      <td>22.1</td>\n",
              "      <td>1.0</td>\n",
              "      <td>6.0</td>\n",
              "    </tr>\n",
              "    <tr>\n",
              "      <th>2</th>\n",
              "      <td>-7.7</td>\n",
              "      <td>-18.7</td>\n",
              "      <td>-6.5</td>\n",
              "      <td>5.0</td>\n",
              "      <td>5.0</td>\n",
              "    </tr>\n",
              "    <tr>\n",
              "      <th>3</th>\n",
              "      <td>7.1</td>\n",
              "      <td>23.7</td>\n",
              "      <td>1.4</td>\n",
              "      <td>6.0</td>\n",
              "      <td>16.0</td>\n",
              "    </tr>\n",
              "    <tr>\n",
              "      <th>4</th>\n",
              "      <td>8.0</td>\n",
              "      <td>-1.0</td>\n",
              "      <td>2.0</td>\n",
              "      <td>4.0</td>\n",
              "      <td>-11.0</td>\n",
              "    </tr>\n",
              "    <tr>\n",
              "      <th>...</th>\n",
              "      <td>...</td>\n",
              "      <td>...</td>\n",
              "      <td>...</td>\n",
              "      <td>...</td>\n",
              "      <td>...</td>\n",
              "    </tr>\n",
              "    <tr>\n",
              "      <th>1071</th>\n",
              "      <td>14.8</td>\n",
              "      <td>16.0</td>\n",
              "      <td>12.0</td>\n",
              "      <td>8.0</td>\n",
              "      <td>13.0</td>\n",
              "    </tr>\n",
              "    <tr>\n",
              "      <th>1072</th>\n",
              "      <td>2.6</td>\n",
              "      <td>0.8</td>\n",
              "      <td>7.3</td>\n",
              "      <td>-11.0</td>\n",
              "      <td>6.0</td>\n",
              "    </tr>\n",
              "    <tr>\n",
              "      <th>1073</th>\n",
              "      <td>0.6</td>\n",
              "      <td>-16.2</td>\n",
              "      <td>2.6</td>\n",
              "      <td>-2.0</td>\n",
              "      <td>13.0</td>\n",
              "    </tr>\n",
              "    <tr>\n",
              "      <th>1074</th>\n",
              "      <td>0.2</td>\n",
              "      <td>13.9</td>\n",
              "      <td>6.3</td>\n",
              "      <td>6.0</td>\n",
              "      <td>7.0</td>\n",
              "    </tr>\n",
              "    <tr>\n",
              "      <th>1075</th>\n",
              "      <td>-11.9</td>\n",
              "      <td>-3.7</td>\n",
              "      <td>-10.3</td>\n",
              "      <td>-3.0</td>\n",
              "      <td>-13.0</td>\n",
              "    </tr>\n",
              "  </tbody>\n",
              "</table>\n",
              "<p>1076 rows × 5 columns</p>\n",
              "</div>\n",
              "      <button class=\"colab-df-convert\" onclick=\"convertToInteractive('df-c1af76bb-ea55-432e-9744-1bb03bb77dcd')\"\n",
              "              title=\"Convert this dataframe to an interactive table.\"\n",
              "              style=\"display:none;\">\n",
              "        \n",
              "  <svg xmlns=\"http://www.w3.org/2000/svg\" height=\"24px\"viewBox=\"0 0 24 24\"\n",
              "       width=\"24px\">\n",
              "    <path d=\"M0 0h24v24H0V0z\" fill=\"none\"/>\n",
              "    <path d=\"M18.56 5.44l.94 2.06.94-2.06 2.06-.94-2.06-.94-.94-2.06-.94 2.06-2.06.94zm-11 1L8.5 8.5l.94-2.06 2.06-.94-2.06-.94L8.5 2.5l-.94 2.06-2.06.94zm10 10l.94 2.06.94-2.06 2.06-.94-2.06-.94-.94-2.06-.94 2.06-2.06.94z\"/><path d=\"M17.41 7.96l-1.37-1.37c-.4-.4-.92-.59-1.43-.59-.52 0-1.04.2-1.43.59L10.3 9.45l-7.72 7.72c-.78.78-.78 2.05 0 2.83L4 21.41c.39.39.9.59 1.41.59.51 0 1.02-.2 1.41-.59l7.78-7.78 2.81-2.81c.8-.78.8-2.07 0-2.86zM5.41 20L4 18.59l7.72-7.72 1.47 1.35L5.41 20z\"/>\n",
              "  </svg>\n",
              "      </button>\n",
              "      \n",
              "  <style>\n",
              "    .colab-df-container {\n",
              "      display:flex;\n",
              "      flex-wrap:wrap;\n",
              "      gap: 12px;\n",
              "    }\n",
              "\n",
              "    .colab-df-convert {\n",
              "      background-color: #E8F0FE;\n",
              "      border: none;\n",
              "      border-radius: 50%;\n",
              "      cursor: pointer;\n",
              "      display: none;\n",
              "      fill: #1967D2;\n",
              "      height: 32px;\n",
              "      padding: 0 0 0 0;\n",
              "      width: 32px;\n",
              "    }\n",
              "\n",
              "    .colab-df-convert:hover {\n",
              "      background-color: #E2EBFA;\n",
              "      box-shadow: 0px 1px 2px rgba(60, 64, 67, 0.3), 0px 1px 3px 1px rgba(60, 64, 67, 0.15);\n",
              "      fill: #174EA6;\n",
              "    }\n",
              "\n",
              "    [theme=dark] .colab-df-convert {\n",
              "      background-color: #3B4455;\n",
              "      fill: #D2E3FC;\n",
              "    }\n",
              "\n",
              "    [theme=dark] .colab-df-convert:hover {\n",
              "      background-color: #434B5C;\n",
              "      box-shadow: 0px 1px 3px 1px rgba(0, 0, 0, 0.15);\n",
              "      filter: drop-shadow(0px 1px 2px rgba(0, 0, 0, 0.3));\n",
              "      fill: #FFFFFF;\n",
              "    }\n",
              "  </style>\n",
              "\n",
              "      <script>\n",
              "        const buttonEl =\n",
              "          document.querySelector('#df-c1af76bb-ea55-432e-9744-1bb03bb77dcd button.colab-df-convert');\n",
              "        buttonEl.style.display =\n",
              "          google.colab.kernel.accessAllowed ? 'block' : 'none';\n",
              "\n",
              "        async function convertToInteractive(key) {\n",
              "          const element = document.querySelector('#df-c1af76bb-ea55-432e-9744-1bb03bb77dcd');\n",
              "          const dataTable =\n",
              "            await google.colab.kernel.invokeFunction('convertToInteractive',\n",
              "                                                     [key], {});\n",
              "          if (!dataTable) return;\n",
              "\n",
              "          const docLinkHtml = 'Like what you see? Visit the ' +\n",
              "            '<a target=\"_blank\" href=https://colab.research.google.com/notebooks/data_table.ipynb>data table notebook</a>'\n",
              "            + ' to learn more about interactive tables.';\n",
              "          element.innerHTML = '';\n",
              "          dataTable['output_type'] = 'display_data';\n",
              "          await google.colab.output.renderOutput(dataTable, element);\n",
              "          const docLink = document.createElement('div');\n",
              "          docLink.innerHTML = docLinkHtml;\n",
              "          element.appendChild(docLink);\n",
              "        }\n",
              "      </script>\n",
              "    </div>\n",
              "  </div>\n",
              "  "
            ]
          },
          "metadata": {},
          "execution_count": 5
        }
      ]
    },
    {
      "cell_type": "code",
      "source": [
        "from sklearn.model_selection import train_test_split\n",
        "\n",
        "X_train, X_test, y_train, y_test = train_test_split(X, y, test_size=0.2, random_state=100)"
      ],
      "metadata": {
        "id": "ch6gA0b_yFAX"
      },
      "execution_count": null,
      "outputs": []
    },
    {
      "cell_type": "code",
      "source": [
        "from sklearn.linear_model import LogisticRegression\n",
        "lr = LogisticRegression()\n",
        "lr.fit(X_train, y_train)"
      ],
      "metadata": {
        "id": "-12gdx550nkB",
        "colab": {
          "base_uri": "https://localhost:8080/"
        },
        "outputId": "3c334b2c-de36-4c05-d797-fa80d237c8e6"
      },
      "execution_count": null,
      "outputs": [
        {
          "output_type": "execute_result",
          "data": {
            "text/plain": [
              "LogisticRegression()"
            ]
          },
          "metadata": {},
          "execution_count": 11
        }
      ]
    },
    {
      "cell_type": "code",
      "source": [
        "y_lr_train_pred = lr.predict(X_train)\n",
        "y_lr_test_pred = lr.predict(X_test)"
      ],
      "metadata": {
        "id": "c9CgO4Eg11dE"
      },
      "execution_count": null,
      "outputs": []
    },
    {
      "cell_type": "code",
      "source": [
        "lr.score(X, y)"
      ],
      "metadata": {
        "colab": {
          "base_uri": "https://localhost:8080/"
        },
        "id": "pWOODK7hC-Hp",
        "outputId": "3c92ac1e-3ed8-4a8d-f331-c30f82c1ef7d"
      },
      "execution_count": null,
      "outputs": [
        {
          "output_type": "execute_result",
          "data": {
            "text/plain": [
              "0.8661710037174721"
            ]
          },
          "metadata": {},
          "execution_count": 17
        }
      ]
    },
    {
      "cell_type": "code",
      "source": [
        "from sklearn.metrics import mean_squared_error, r2_score\n",
        "lr_train_mse = mean_squared_error(y_train,y_lr_train_pred)\n",
        "lr_train_r2 = r2_score(y_train, y_lr_train_pred)\n",
        "\n",
        "lr_test_mse = mean_squared_error(y_test, y_lr_test_pred)\n",
        "lr_test_r2 = r2_score(y_test, y_lr_test_pred)\n",
        "\n",
        "print(\"LR Test R2:\", lr_test_r2)\n",
        "print(\"LR Test MSE:\", lr_test_mse)\n",
        "print(\"LR Train R2:\", lr_train_r2)\n",
        "print(\"LR Test MSE:\", lr_train_mse)"
      ],
      "metadata": {
        "colab": {
          "base_uri": "https://localhost:8080/"
        },
        "id": "fkX_BNUT3NJc",
        "outputId": "c09436c0-a3f7-461b-8541-6fff4b6d3eab"
      },
      "execution_count": null,
      "outputs": [
        {
          "output_type": "stream",
          "name": "stdout",
          "text": [
            "LR Test R2: 0.4692965344639455\n",
            "LR Test MSE: 0.13211850034724948\n",
            "LR Train R2: 0.5152044405632572\n",
            "LR Test MSE: 0.11942646261105569\n"
          ]
        }
      ]
    },
    {
      "cell_type": "markdown",
      "source": [
        "##Forest"
      ],
      "metadata": {
        "id": "7Hq_jUd4tkvm"
      }
    },
    {
      "cell_type": "code",
      "source": [
        "from sklearn.ensemble import RandomForestClassifier\n",
        "import numpy as np"
      ],
      "metadata": {
        "id": "7vSc4k45tnr2"
      },
      "execution_count": null,
      "outputs": []
    },
    {
      "cell_type": "code",
      "source": [
        "y = df['HOME_TEAM_WINS']\n",
        "print(y)"
      ],
      "metadata": {
        "id": "fq2RmghhxhZC"
      },
      "execution_count": null,
      "outputs": []
    },
    {
      "cell_type": "code",
      "source": [
        "Z = df.drop(['PTS_home','SEASON','TEAM_ID_home','HOME_TEAM_WINS','PTS_away','TEAM_ID_away'], axis =1)\n",
        "Z['GAME_DATE_EST'] = 100* (Z['FG_PCT_home'] - Z['FG_PCT_away'])\n",
        "Z['GAME_ID'] = 100*(Z['FT_PCT_home'] - Z['FT_PCT_away'])\n",
        "Z['GAME_STATUS_TEXT'] = 100*(Z['FG3_PCT_home'] - Z['FG3_PCT_away'])\n",
        "Z['HOME_TEAM_ID'] = Z['AST_home'] - Z['AST_away']\n",
        "Z['VISITOR_TEAM_ID'] = Z['REB_home'] - Z['REB_away']\n",
        "Z = Z.drop(['REB_away','AST_away','FG3_PCT_away','FT_PCT_away','FG_PCT_away','REB_home','AST_home','FG3_PCT_home','FT_PCT_home','FG_PCT_home'], axis =1)\n",
        "Z"
      ],
      "metadata": {
        "id": "goaZnA13xifH"
      },
      "execution_count": null,
      "outputs": []
    },
    {
      "cell_type": "code",
      "source": [
        "print(f'Z : {Z.shape}')"
      ],
      "metadata": {
        "id": "CDzCO9EVxsyp"
      },
      "execution_count": null,
      "outputs": []
    },
    {
      "cell_type": "code",
      "source": [
        "from sklearn.model_selection import train_test_split\n",
        "\n",
        "Z_train, Z_test, y_train, y_test = train_test_split(Z, y, test_size=0.2, random_state=101)"
      ],
      "metadata": {
        "id": "4StGi705x8Um"
      },
      "execution_count": null,
      "outputs": []
    },
    {
      "cell_type": "markdown",
      "source": [
        "### Hyperparameters"
      ],
      "metadata": {
        "id": "EiaqTz0HoXFE"
      }
    },
    {
      "cell_type": "code",
      "source": [
        "n_estimators = [int(x) for x in np.linspace(start = 10, stop = 80, num = 10)]\n",
        "max_features = ['auto', 'sqrt']\n",
        "max_depth = [2,4]\n",
        "min_samples_split = [2,5]\n",
        "min_samples_leaf = [1,2]\n",
        "bootstrap = [True, False]"
      ],
      "metadata": {
        "id": "DPH8pGWjofAX"
      },
      "execution_count": null,
      "outputs": []
    },
    {
      "cell_type": "code",
      "source": [
        "param_grid = {'n_estimators':n_estimators,\n",
        "              'max_features':max_features,\n",
        "              'max_depth':max_depth,\n",
        "              'min_samples_split':min_samples_split,\n",
        "              'min_samples_leaf':min_samples_leaf,\n",
        "              'bootstrap':bootstrap\n",
        "              }\n",
        "print(param_grid)"
      ],
      "metadata": {
        "colab": {
          "base_uri": "https://localhost:8080/"
        },
        "id": "QbuMejL0sEUe",
        "outputId": "c292ee9f-eaa3-4a3d-a546-a53d61746f8f"
      },
      "execution_count": null,
      "outputs": [
        {
          "output_type": "stream",
          "name": "stdout",
          "text": [
            "{'n_estimators': [10, 17, 25, 33, 41, 48, 56, 64, 72, 80], 'max_features': ['auto', 'sqrt'], 'max_depth': [2, 4], 'min_samples_split': [2, 5], 'min_samples_leaf': [1, 2], 'bootstrap': [True, False]}\n"
          ]
        }
      ]
    },
    {
      "cell_type": "code",
      "source": [
        "rf_Model = RandomForestClassifier()"
      ],
      "metadata": {
        "id": "LEZRLE-ayLnB"
      },
      "execution_count": null,
      "outputs": []
    },
    {
      "cell_type": "code",
      "source": [
        "from sklearn.model_selection import GridSearchCV\n",
        "rf_Grid = GridSearchCV(estimator = rf_Model, param_grid = param_grid,  cv = 3, verbose=2, n_jobs = 4)"
      ],
      "metadata": {
        "id": "O6HhXTyMtU6F"
      },
      "execution_count": null,
      "outputs": []
    },
    {
      "cell_type": "code",
      "source": [
        "rf_Grid.fit(Z_train, y_train)"
      ],
      "metadata": {
        "colab": {
          "base_uri": "https://localhost:8080/"
        },
        "id": "Ox-HhrMGtqmM",
        "outputId": "3fd4f0fc-a76e-4a9a-b49f-e358f4c05592"
      },
      "execution_count": null,
      "outputs": [
        {
          "output_type": "stream",
          "name": "stdout",
          "text": [
            "Fitting 3 folds for each of 320 candidates, totalling 960 fits\n"
          ]
        },
        {
          "output_type": "execute_result",
          "data": {
            "text/plain": [
              "GridSearchCV(cv=3, estimator=RandomForestClassifier(), n_jobs=4,\n",
              "             param_grid={'bootstrap': [True, False], 'max_depth': [2, 4],\n",
              "                         'max_features': ['auto', 'sqrt'],\n",
              "                         'min_samples_leaf': [1, 2],\n",
              "                         'min_samples_split': [2, 5],\n",
              "                         'n_estimators': [10, 17, 25, 33, 41, 48, 56, 64, 72,\n",
              "                                          80]},\n",
              "             verbose=2)"
            ]
          },
          "metadata": {},
          "execution_count": 71
        }
      ]
    },
    {
      "cell_type": "code",
      "source": [
        "rf_Grid.best_params_"
      ],
      "metadata": {
        "colab": {
          "base_uri": "https://localhost:8080/"
        },
        "id": "7M1SUpfnunuP",
        "outputId": "c6b69060-e4f6-4519-bea4-a00e287ff4b6"
      },
      "execution_count": null,
      "outputs": [
        {
          "output_type": "execute_result",
          "data": {
            "text/plain": [
              "{'bootstrap': False,\n",
              " 'max_depth': 4,\n",
              " 'max_features': 'sqrt',\n",
              " 'min_samples_leaf': 2,\n",
              " 'min_samples_split': 2,\n",
              " 'n_estimators': 48}"
            ]
          },
          "metadata": {},
          "execution_count": 72
        }
      ]
    },
    {
      "cell_type": "code",
      "source": [
        "print(f'Train Accuracy - : {rf_Grid.score(Z_train, y_train):.3f}')\n",
        "print(f'Test Accuracy - : {rf_Grid.score(Z_test, y_test):.3f}')"
      ],
      "metadata": {
        "colab": {
          "base_uri": "https://localhost:8080/"
        },
        "id": "u1Vf2rVAw-s9",
        "outputId": "1fa3300a-de91-41d7-85f1-1b7e7d9f3230"
      },
      "execution_count": null,
      "outputs": [
        {
          "output_type": "stream",
          "name": "stdout",
          "text": [
            "Train Accuracy - : 0.901\n",
            "Test Accuracy - : 0.819\n"
          ]
        }
      ]
    },
    {
      "cell_type": "markdown",
      "source": [
        "## Test on Past Years"
      ],
      "metadata": {
        "id": "4o6285Zty2q5"
      }
    },
    {
      "cell_type": "code",
      "source": [
        "df2 = pd.read_csv('2021Games.csv')\n",
        "\n",
        "print(df2)"
      ],
      "metadata": {
        "id": "cQ6y_pw_yqxh"
      },
      "execution_count": null,
      "outputs": []
    },
    {
      "cell_type": "code",
      "source": [
        "y2 = df2['HOME_TEAM_WINS']\n",
        "print(y)"
      ],
      "metadata": {
        "id": "f4YIuEDMzFc0"
      },
      "execution_count": null,
      "outputs": []
    },
    {
      "cell_type": "code",
      "source": [
        "Z2 = df2.drop(['PTS_home','SEASON','TEAM_ID_home','HOME_TEAM_WINS','PTS_away','TEAM_ID_away'], axis =1)\n",
        "Z2['GAME_DATE_EST'] = 100* (Z2['FG_PCT_home'] - Z2['FG_PCT_away'])\n",
        "Z2['GAME_ID'] = 100*(Z2['FT_PCT_home'] - Z2['FT_PCT_away'])\n",
        "Z2['GAME_STATUS_TEXT'] = 100*(Z2['FG3_PCT_home'] - Z2['FG3_PCT_away'])\n",
        "Z2['HOME_TEAM_ID'] = Z2['AST_home'] - Z2['AST_away']\n",
        "Z2['VISITOR_TEAM_ID'] = Z2['REB_home'] - Z2['REB_away']\n",
        "Z2 = Z2.drop(['REB_away','AST_away','FG3_PCT_away','FT_PCT_away','FG_PCT_away','REB_home','AST_home','FG3_PCT_home','FT_PCT_home','FG_PCT_home'], axis =1)\n",
        "Z2"
      ],
      "metadata": {
        "id": "CKuyTUUnzMz4"
      },
      "execution_count": null,
      "outputs": []
    },
    {
      "cell_type": "code",
      "source": [
        "from sklearn.model_selection import train_test_split\n",
        "\n",
        "Z2_train, Z2_test, y2_train, y2_test = train_test_split(Z2, y2, test_size=0.2, random_state=101)"
      ],
      "metadata": {
        "id": "nMGCIC_WzvIf"
      },
      "execution_count": null,
      "outputs": []
    },
    {
      "cell_type": "code",
      "source": [
        "print(f'Train Accuracy - : {rf_Grid.score(Z2_train, y2_train):.3f}')\n",
        "print(f'Test Accuracy - : {rf_Grid.score(Z2_test, y2_test):.3f}')"
      ],
      "metadata": {
        "colab": {
          "base_uri": "https://localhost:8080/"
        },
        "id": "r7stRU7Q0oOH",
        "outputId": "0c47301c-3200-4edd-f897-b1e5fb3f9557"
      },
      "execution_count": null,
      "outputs": [
        {
          "output_type": "stream",
          "name": "stdout",
          "text": [
            "Train Accuracy - : 0.831\n",
            "Test Accuracy - : 0.838\n"
          ]
        }
      ]
    }
  ]
}